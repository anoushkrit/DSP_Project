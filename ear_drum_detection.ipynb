{
  "nbformat": 4,
  "nbformat_minor": 0,
  "metadata": {
    "colab": {
      "name": "ear_drum_detection.ipynb",
      "version": "0.3.2",
      "provenance": [],
      "collapsed_sections": [],
      "include_colab_link": true
    },
    "kernelspec": {
      "name": "python3",
      "display_name": "Python 3"
    }
  },
  "cells": [
    {
      "cell_type": "markdown",
      "metadata": {
        "id": "view-in-github",
        "colab_type": "text"
      },
      "source": [
        "<a href=\"https://colab.research.google.com/github/anoushkrit/DSP_Project/blob/master/ear_drum_detection.ipynb\" target=\"_parent\"><img src=\"https://colab.research.google.com/assets/colab-badge.svg\" alt=\"Open In Colab\"/></a>"
      ]
    },
    {
      "metadata": {
        "id": "YIIKhDAyxGf5",
        "colab_type": "text"
      },
      "cell_type": "markdown",
      "source": [
        "# Ear Drum Image Classification"
      ]
    },
    {
      "metadata": {
        "id": "FJ9AiH9txQ14",
        "colab_type": "code",
        "colab": {}
      },
      "cell_type": "code",
      "source": [
        "import tensorflow as tf\n",
        "import pandas as pd\n",
        "import numpy as np\n",
        "import time \n",
        "import math\n",
        "import matplotlib.pyplot as plt\n",
        "# import dataset"
      ],
      "execution_count": 0,
      "outputs": []
    },
    {
      "metadata": {
        "id": "VXinsPBhxSzQ",
        "colab_type": "text"
      },
      "cell_type": "markdown",
      "source": [
        "## Load Data\n"
      ]
    },
    {
      "metadata": {
        "id": "tH-di_PmxSA3",
        "colab_type": "code",
        "colab": {}
      },
      "cell_type": "code",
      "source": [
        "# data = dataset.read_train_sets(train_path, img_size, classes, vaidation_size= validation_size)\n",
        "# test_images, test ids = dataset.read_test_set(test_path, img_size)"
      ],
      "execution_count": 0,
      "outputs": []
    },
    {
      "metadata": {
        "id": "xgnIXCUN3YFJ",
        "colab_type": "text"
      },
      "cell_type": "markdown",
      "source": [
        "Reading the training images \n",
        "\n",
        "Loading ear_drum files (Index: 0)\n",
        "Loading other images (Index: 1)"
      ]
    },
    {
      "metadata": {
        "id": "dpbeiDyI4PW4",
        "colab_type": "text"
      },
      "cell_type": "markdown",
      "source": [
        "### Helper functions to plot the dataset (i.e. Images)\n"
      ]
    }
  ]
}